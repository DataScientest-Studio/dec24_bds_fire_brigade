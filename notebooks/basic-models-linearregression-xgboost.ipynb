{
  "nbformat": 4,
  "nbformat_minor": 0,
  "metadata": {
    "colab": {
      "provenance": [],
      "toc_visible": true
    },
    "kernelspec": {
      "name": "python3",
      "display_name": "Python 3"
    },
    "language_info": {
      "name": "python"
    }
  },
  "cells": [
    {
      "cell_type": "markdown",
      "source": [
        "## Modules and Import"
      ],
      "metadata": {
        "id": "Yqnvfhoa9qqF"
      }
    },
    {
      "cell_type": "code",
      "source": [
        "# import modules\n",
        "import pandas as pd\n",
        "from google.colab import drive\n",
        "import matplotlib.pyplot as plt\n",
        "import seaborn as sns\n",
        "from sklearn.preprocessing import LabelEncoder\n",
        "!pip install category-encoders\n",
        "from category_encoders import TargetEncoder\n",
        "from sklearn.model_selection import train_test_split\n",
        "from sklearn.preprocessing import StandardScaler\n",
        "from sklearn.linear_model import LinearRegression\n",
        "from sklearn.metrics import mean_absolute_error, mean_squared_error, r2_score\n",
        "import xgboost as xgb\n",
        "from sklearn.model_selection import RandomizedSearchCV\n",
        "import numpy as np\n",
        "import torch\n",
        "import torch.nn as nn\n",
        "import torch.optim as optim\n",
        "from torch.utils.data import DataLoader, TensorDataset\n",
        "\n",
        "# connect drive\n",
        "drive.mount('/content/drive', force_remount=True)"
      ],
      "metadata": {
        "colab": {
          "base_uri": "https://localhost:8080/"
        },
        "id": "yV0gpIdy-_Fg",
        "outputId": "fc2908af-dc3e-448c-e98d-7463cf74117c"
      },
      "execution_count": null,
      "outputs": [
        {
          "output_type": "stream",
          "name": "stdout",
          "text": [
            "Collecting category-encoders\n",
            "  Downloading category_encoders-2.8.0-py3-none-any.whl.metadata (7.9 kB)\n",
            "Requirement already satisfied: numpy>=1.14.0 in /usr/local/lib/python3.11/dist-packages (from category-encoders) (1.26.4)\n",
            "Requirement already satisfied: pandas>=1.0.5 in /usr/local/lib/python3.11/dist-packages (from category-encoders) (2.2.2)\n",
            "Requirement already satisfied: patsy>=0.5.1 in /usr/local/lib/python3.11/dist-packages (from category-encoders) (1.0.1)\n",
            "Requirement already satisfied: scikit-learn>=1.6.0 in /usr/local/lib/python3.11/dist-packages (from category-encoders) (1.6.1)\n",
            "Requirement already satisfied: scipy>=1.0.0 in /usr/local/lib/python3.11/dist-packages (from category-encoders) (1.13.1)\n",
            "Requirement already satisfied: statsmodels>=0.9.0 in /usr/local/lib/python3.11/dist-packages (from category-encoders) (0.14.4)\n",
            "Requirement already satisfied: python-dateutil>=2.8.2 in /usr/local/lib/python3.11/dist-packages (from pandas>=1.0.5->category-encoders) (2.8.2)\n",
            "Requirement already satisfied: pytz>=2020.1 in /usr/local/lib/python3.11/dist-packages (from pandas>=1.0.5->category-encoders) (2025.1)\n",
            "Requirement already satisfied: tzdata>=2022.7 in /usr/local/lib/python3.11/dist-packages (from pandas>=1.0.5->category-encoders) (2025.1)\n",
            "Requirement already satisfied: joblib>=1.2.0 in /usr/local/lib/python3.11/dist-packages (from scikit-learn>=1.6.0->category-encoders) (1.4.2)\n",
            "Requirement already satisfied: threadpoolctl>=3.1.0 in /usr/local/lib/python3.11/dist-packages (from scikit-learn>=1.6.0->category-encoders) (3.5.0)\n",
            "Requirement already satisfied: packaging>=21.3 in /usr/local/lib/python3.11/dist-packages (from statsmodels>=0.9.0->category-encoders) (24.2)\n",
            "Requirement already satisfied: six>=1.5 in /usr/local/lib/python3.11/dist-packages (from python-dateutil>=2.8.2->pandas>=1.0.5->category-encoders) (1.17.0)\n",
            "Downloading category_encoders-2.8.0-py3-none-any.whl (85 kB)\n",
            "\u001b[2K   \u001b[90m━━━━━━━━━━━━━━━━━━━━━━━━━━━━━━━━━━━━━━━━\u001b[0m \u001b[32m85.7/85.7 kB\u001b[0m \u001b[31m2.0 MB/s\u001b[0m eta \u001b[36m0:00:00\u001b[0m\n",
            "\u001b[?25hInstalling collected packages: category-encoders\n",
            "Successfully installed category-encoders-2.8.0\n",
            "Mounted at /content/drive\n"
          ]
        }
      ]
    },
    {
      "cell_type": "code",
      "source": [
        "# import df\n",
        "df = pd.read_csv('/content/drive/MyDrive/Colab Notebooks/clean_merge_v2.xls', sep=\";\")"
      ],
      "metadata": {
        "id": "7WZ3fbUs_IVk"
      },
      "execution_count": null,
      "outputs": []
    },
    {
      "cell_type": "markdown",
      "source": [
        "## First Look and Preprocess"
      ],
      "metadata": {
        "id": "VPOtI31fQ329"
      }
    },
    {
      "cell_type": "code",
      "source": [
        "df.dtypes"
      ],
      "metadata": {
        "colab": {
          "base_uri": "https://localhost:8080/"
        },
        "id": "N8ZzrM8kRK0Q",
        "outputId": "ae2e9ba1-6265-4879-ad3c-9d474acf0e17"
      },
      "execution_count": null,
      "outputs": [
        {
          "output_type": "execute_result",
          "data": {
            "text/plain": [
              "IncidentNumber                              int64\n",
              "CalYear_compat_mobs                         int64\n",
              "HourOfCall_compat_mobs                      int64\n",
              "PerformanceReporting                       object\n",
              "DateAndTimeMobilised                       object\n",
              "DateAndTimeMobile                          object\n",
              "DateAndTimeArrived                         object\n",
              "TurnoutTimeSeconds                        float64\n",
              "TravelTimeSeconds                         float64\n",
              "AttendanceTimeSeconds                     float64\n",
              "DeployedFromStation_Name                   object\n",
              "DeployedFromLocation                       object\n",
              "PumpOrder                                   int64\n",
              "DelayCode_Description                      object\n",
              "Weekday_compat_mobs                        object\n",
              "Month_compat_mobs                           int64\n",
              "Incident_Date                              object\n",
              "DateOfCall                                 object\n",
              "IncidentGroup                              object\n",
              "StopCodeDescription                        object\n",
              "PropertyCategory                           object\n",
              "AddressQualifier                           object\n",
              "Postcode_district                          object\n",
              "ProperCase                                 object\n",
              "IncidentStationGround                      object\n",
              "FirstPumpArriving_AttendanceTime          float64\n",
              "FirstPumpArriving_DeployedFromStation      object\n",
              "SecondPumpArriving_AttendanceTime         float64\n",
              "SecondPumpArriving_DeployedFromStation     object\n",
              "NumStationsWithPumpsAttending             float64\n",
              "NumPumpsAttending                         float64\n",
              "PumpCount                                 float64\n",
              "PumpMinutesRounded                        float64\n",
              "Notional Cost (£)                         float64\n",
              "distance_km                               float64\n",
              "dtype: object"
            ],
            "text/html": [
              "<div>\n",
              "<style scoped>\n",
              "    .dataframe tbody tr th:only-of-type {\n",
              "        vertical-align: middle;\n",
              "    }\n",
              "\n",
              "    .dataframe tbody tr th {\n",
              "        vertical-align: top;\n",
              "    }\n",
              "\n",
              "    .dataframe thead th {\n",
              "        text-align: right;\n",
              "    }\n",
              "</style>\n",
              "<table border=\"1\" class=\"dataframe\">\n",
              "  <thead>\n",
              "    <tr style=\"text-align: right;\">\n",
              "      <th></th>\n",
              "      <th>0</th>\n",
              "    </tr>\n",
              "  </thead>\n",
              "  <tbody>\n",
              "    <tr>\n",
              "      <th>IncidentNumber</th>\n",
              "      <td>int64</td>\n",
              "    </tr>\n",
              "    <tr>\n",
              "      <th>CalYear_compat_mobs</th>\n",
              "      <td>int64</td>\n",
              "    </tr>\n",
              "    <tr>\n",
              "      <th>HourOfCall_compat_mobs</th>\n",
              "      <td>int64</td>\n",
              "    </tr>\n",
              "    <tr>\n",
              "      <th>PerformanceReporting</th>\n",
              "      <td>object</td>\n",
              "    </tr>\n",
              "    <tr>\n",
              "      <th>DateAndTimeMobilised</th>\n",
              "      <td>object</td>\n",
              "    </tr>\n",
              "    <tr>\n",
              "      <th>DateAndTimeMobile</th>\n",
              "      <td>object</td>\n",
              "    </tr>\n",
              "    <tr>\n",
              "      <th>DateAndTimeArrived</th>\n",
              "      <td>object</td>\n",
              "    </tr>\n",
              "    <tr>\n",
              "      <th>TurnoutTimeSeconds</th>\n",
              "      <td>float64</td>\n",
              "    </tr>\n",
              "    <tr>\n",
              "      <th>TravelTimeSeconds</th>\n",
              "      <td>float64</td>\n",
              "    </tr>\n",
              "    <tr>\n",
              "      <th>AttendanceTimeSeconds</th>\n",
              "      <td>float64</td>\n",
              "    </tr>\n",
              "    <tr>\n",
              "      <th>DeployedFromStation_Name</th>\n",
              "      <td>object</td>\n",
              "    </tr>\n",
              "    <tr>\n",
              "      <th>DeployedFromLocation</th>\n",
              "      <td>object</td>\n",
              "    </tr>\n",
              "    <tr>\n",
              "      <th>PumpOrder</th>\n",
              "      <td>int64</td>\n",
              "    </tr>\n",
              "    <tr>\n",
              "      <th>DelayCode_Description</th>\n",
              "      <td>object</td>\n",
              "    </tr>\n",
              "    <tr>\n",
              "      <th>Weekday_compat_mobs</th>\n",
              "      <td>object</td>\n",
              "    </tr>\n",
              "    <tr>\n",
              "      <th>Month_compat_mobs</th>\n",
              "      <td>int64</td>\n",
              "    </tr>\n",
              "    <tr>\n",
              "      <th>Incident_Date</th>\n",
              "      <td>object</td>\n",
              "    </tr>\n",
              "    <tr>\n",
              "      <th>DateOfCall</th>\n",
              "      <td>object</td>\n",
              "    </tr>\n",
              "    <tr>\n",
              "      <th>IncidentGroup</th>\n",
              "      <td>object</td>\n",
              "    </tr>\n",
              "    <tr>\n",
              "      <th>StopCodeDescription</th>\n",
              "      <td>object</td>\n",
              "    </tr>\n",
              "    <tr>\n",
              "      <th>PropertyCategory</th>\n",
              "      <td>object</td>\n",
              "    </tr>\n",
              "    <tr>\n",
              "      <th>AddressQualifier</th>\n",
              "      <td>object</td>\n",
              "    </tr>\n",
              "    <tr>\n",
              "      <th>Postcode_district</th>\n",
              "      <td>object</td>\n",
              "    </tr>\n",
              "    <tr>\n",
              "      <th>ProperCase</th>\n",
              "      <td>object</td>\n",
              "    </tr>\n",
              "    <tr>\n",
              "      <th>IncidentStationGround</th>\n",
              "      <td>object</td>\n",
              "    </tr>\n",
              "    <tr>\n",
              "      <th>FirstPumpArriving_AttendanceTime</th>\n",
              "      <td>float64</td>\n",
              "    </tr>\n",
              "    <tr>\n",
              "      <th>FirstPumpArriving_DeployedFromStation</th>\n",
              "      <td>object</td>\n",
              "    </tr>\n",
              "    <tr>\n",
              "      <th>SecondPumpArriving_AttendanceTime</th>\n",
              "      <td>float64</td>\n",
              "    </tr>\n",
              "    <tr>\n",
              "      <th>SecondPumpArriving_DeployedFromStation</th>\n",
              "      <td>object</td>\n",
              "    </tr>\n",
              "    <tr>\n",
              "      <th>NumStationsWithPumpsAttending</th>\n",
              "      <td>float64</td>\n",
              "    </tr>\n",
              "    <tr>\n",
              "      <th>NumPumpsAttending</th>\n",
              "      <td>float64</td>\n",
              "    </tr>\n",
              "    <tr>\n",
              "      <th>PumpCount</th>\n",
              "      <td>float64</td>\n",
              "    </tr>\n",
              "    <tr>\n",
              "      <th>PumpMinutesRounded</th>\n",
              "      <td>float64</td>\n",
              "    </tr>\n",
              "    <tr>\n",
              "      <th>Notional Cost (£)</th>\n",
              "      <td>float64</td>\n",
              "    </tr>\n",
              "    <tr>\n",
              "      <th>distance_km</th>\n",
              "      <td>float64</td>\n",
              "    </tr>\n",
              "  </tbody>\n",
              "</table>\n",
              "</div><br><label><b>dtype:</b> object</label>"
            ]
          },
          "metadata": {},
          "execution_count": 40
        }
      ]
    },
    {
      "cell_type": "code",
      "source": [
        "# dropping irrelevant columns\n",
        "df_drop = df.drop([\"IncidentNumber\", \"DateAndTimeMobilised\", \"DateAndTimeMobile\", \"DateAndTimeArrived\", \"TurnoutTimeSeconds\", \"TravelTimeSeconds\", \"Incident_Date\", \"DateOfCall\", \"IncidentStationGround\", \"ProperCase\", \"FirstPumpArriving_AttendanceTime\", \"FirstPumpArriving_DeployedFromStation\", \"SecondPumpArriving_AttendanceTime\", \"SecondPumpArriving_DeployedFromStation\", \"Postcode_district\", \"PerformanceReporting\", \"Notional Cost (£)\", \"PumpMinutesRounded\"], axis=1)"
      ],
      "metadata": {
        "id": "CgbwWUYjRNLP"
      },
      "execution_count": null,
      "outputs": []
    },
    {
      "cell_type": "code",
      "source": [
        "# get the count of categories for each object feature\n",
        "df_object = df_drop.select_dtypes(include=['object'])\n",
        "\n",
        "for i in df_object.columns:\n",
        "  print(f\"feature {i} nunique: {df_object[i].nunique()}\" )"
      ],
      "metadata": {
        "colab": {
          "base_uri": "https://localhost:8080/"
        },
        "id": "JkMxuvq0SiCP",
        "outputId": "3fe96720-f2b7-4e8b-9de7-715a040873f8"
      },
      "execution_count": null,
      "outputs": [
        {
          "output_type": "stream",
          "name": "stdout",
          "text": [
            "feature DeployedFromStation_Name nunique: 116\n",
            "feature DeployedFromLocation nunique: 2\n",
            "feature DelayCode_Description nunique: 12\n",
            "feature Weekday_compat_mobs nunique: 7\n",
            "feature IncidentGroup nunique: 3\n",
            "feature StopCodeDescription nunique: 28\n",
            "feature PropertyCategory nunique: 9\n",
            "feature AddressQualifier nunique: 11\n"
          ]
        }
      ]
    },
    {
      "cell_type": "code",
      "source": [
        "# train test split before encoding / standardization\n",
        "# Define target and features\n",
        "target = \"AttendanceTimeSeconds\"\n",
        "X = df_drop.drop(columns=[target])  # Features\n",
        "y = df[target]  # Target variable\n",
        "\n",
        "# Perform the split (80% train, 20% test)\n",
        "X_train, X_test, y_train, y_test = train_test_split(X, y, test_size=0.2, random_state=42)"
      ],
      "metadata": {
        "id": "pYev_PYcLKcU"
      },
      "execution_count": null,
      "outputs": []
    },
    {
      "cell_type": "code",
      "source": [
        "# encode the object feature variables\n",
        "# low cardinality features (≤ 10 unique values) → Label Encoding\n",
        "label_cols = [\"DeployedFromLocation\", \"IncidentGroup\",\n",
        "              \"Weekday_compat_mobs\", \"PropertyCategory\", \"AddressQualifier\"]\n",
        "\n",
        "le = LabelEncoder()\n",
        "for col in label_cols:\n",
        "    X_train[col] = le.fit_transform(X_train[col])\n",
        "    X_test[col] = le.transform(X_test[col])  # Use the same encoder for test data\n",
        "\n",
        "# Medium-cardinality categorical features (Target Encoding)\n",
        "target_cols = [\"DelayCode_Description\", \"StopCodeDescription\", \"DeployedFromStation_Name\"]\n",
        "\n",
        "te = TargetEncoder(cols=target_cols)\n",
        "X_train[target_cols] = te.fit_transform(X_train[target_cols], y_train)\n",
        "X_test[target_cols] = te.transform(X_test[target_cols])  # Use the same encoder for test data\n"
      ],
      "metadata": {
        "id": "rI2SkjfoUV6f"
      },
      "execution_count": null,
      "outputs": []
    },
    {
      "cell_type": "code",
      "source": [
        "# Select numerical columns that need scaling\n",
        "num_cols_to_scale = [\"distance_km\"]  # Only continuous features\n",
        "\n",
        "scaler = StandardScaler()\n",
        "X_train[num_cols_to_scale] = scaler.fit_transform(X_train[num_cols_to_scale])\n",
        "X_test[num_cols_to_scale] = scaler.transform(X_test[num_cols_to_scale])  # Use same scaler for test data\n"
      ],
      "metadata": {
        "id": "TZL-86KKWEcT"
      },
      "execution_count": null,
      "outputs": []
    },
    {
      "cell_type": "markdown",
      "source": [
        "## Modelling"
      ],
      "metadata": {
        "id": "d29SXUMPSSTL"
      }
    },
    {
      "cell_type": "markdown",
      "source": [
        "## Basic LR Model + Default XGBOOST"
      ],
      "metadata": {
        "id": "S9ehG0WkNjUj"
      }
    },
    {
      "cell_type": "code",
      "source": [
        "# Initialize model\n",
        "lr = LinearRegression()\n",
        "\n",
        "# Train the model\n",
        "lr.fit(X_train, y_train)\n",
        "\n",
        "# Make predictions\n",
        "y_pred = lr.predict(X_test)\n",
        "\n",
        "# Evaluate the model\n",
        "mae = mean_absolute_error(y_test, y_pred)\n",
        "mse = mean_squared_error(y_test, y_pred)\n",
        "r2 = r2_score(y_test, y_pred)\n",
        "\n",
        "print(f\"MAE: {mae:.2f}\")\n",
        "print(f\"MSE: {mse:.2f}\")\n",
        "print(f\"R² Score: {r2:.2f}\")"
      ],
      "metadata": {
        "colab": {
          "base_uri": "https://localhost:8080/"
        },
        "id": "IFqPeb3RSx4D",
        "outputId": "7c64e98a-73f4-41dd-a119-c39d8accc739"
      },
      "execution_count": null,
      "outputs": [
        {
          "output_type": "stream",
          "name": "stdout",
          "text": [
            "MAE: 78.40\n",
            "MSE: 12397.93\n",
            "R² Score: 0.46\n"
          ]
        }
      ]
    },
    {
      "cell_type": "code",
      "source": [
        "# Initialize XGBoost Regressor\n",
        "xgb_reg = xgb.XGBRegressor(objective=\"reg:squarederror\", n_estimators=100, learning_rate=0.1, max_depth=6, random_state=42)\n",
        "\n",
        "# Train the model\n",
        "xgb_reg.fit(X_train, y_train)\n",
        "\n",
        "# Predict on test set\n",
        "y_pred = xgb_reg.predict(X_test)\n",
        "\n",
        "# Evaluate the model\n",
        "mae = mean_absolute_error(y_test, y_pred)\n",
        "mse = mean_squared_error(y_test, y_pred)\n",
        "r2 = r2_score(y_test, y_pred)\n",
        "\n",
        "print(f\"MAE: {mae:.2f}\")\n",
        "print(f\"MSE: {mse:.2f}\")\n",
        "print(f\"R² Score: {r2:.2f}\")\n"
      ],
      "metadata": {
        "colab": {
          "base_uri": "https://localhost:8080/"
        },
        "id": "HQueOe01Mx-j",
        "outputId": "f28d50d9-fa65-40fd-9e71-358eeb617cb5"
      },
      "execution_count": null,
      "outputs": [
        {
          "output_type": "stream",
          "name": "stdout",
          "text": [
            "MAE: 69.54\n",
            "MSE: 10431.16\n",
            "R² Score: 0.55\n"
          ]
        }
      ]
    },
    {
      "cell_type": "code",
      "source": [
        "# Predictions on training data\n",
        "y_train_pred = xgb_reg.predict(X_train)\n",
        "\n",
        "# Training set performance\n",
        "train_mae = mean_absolute_error(y_train, y_train_pred)\n",
        "train_mse = mean_squared_error(y_train, y_train_pred)\n",
        "train_r2 = r2_score(y_train, y_train_pred)\n",
        "\n",
        "# Test set performance\n",
        "test_mae = mean_absolute_error(y_test, y_pred)\n",
        "test_mse = mean_squared_error(y_test, y_pred)\n",
        "test_r2 = r2_score(y_test, y_pred)\n",
        "\n",
        "print(f\"Training MAE: {train_mae:.2f}, Test MAE: {test_mae:.2f}\")\n",
        "print(f\"Training MSE: {train_mse:.2f}, Test MSE: {test_mse:.2f}\")\n",
        "print(f\"Training R²: {train_r2:.2f}, Test R²: {test_r2:.2f}\")"
      ],
      "metadata": {
        "colab": {
          "base_uri": "https://localhost:8080/"
        },
        "id": "-pqxaPbMTYh0",
        "outputId": "02b00791-c0db-416f-dc44-3aaeb089456b"
      },
      "execution_count": null,
      "outputs": [
        {
          "output_type": "stream",
          "name": "stdout",
          "text": [
            "Training MAE: 69.18, Test MAE: 69.54\n",
            "Training MSE: 10257.28, Test MSE: 10431.16\n",
            "Training R²: 0.55, Test R²: 0.55\n"
          ]
        }
      ]
    },
    {
      "cell_type": "markdown",
      "source": [
        "## XGBOOST RandomSearch"
      ],
      "metadata": {
        "id": "p4Kdh-RkUMhD"
      }
    },
    {
      "cell_type": "code",
      "source": [
        "# Define parameter grid\n",
        "param_grid = {\n",
        "    \"n_estimators\": [100, 200, 300, 500],  # Number of trees\n",
        "    \"learning_rate\": [0.01, 0.05, 0.1, 0.2],  # Step size\n",
        "    \"max_depth\": [3, 5, 6, 8],  # Tree depth\n",
        "    \"subsample\": [0.6, 0.8, 1.0],  # Fraction of data used per tree\n",
        "    \"colsample_bytree\": [0.6, 0.8, 1.0],  # Fraction of features per tree\n",
        "    \"reg_lambda\": [0, 1, 10],  # L2 regularization\n",
        "    \"reg_alpha\": [0, 0.1, 1]  # L1 regularization\n",
        "}\n",
        "\n",
        "# Initialize XGBoost regressor\n",
        "xgb_reg = xgb.XGBRegressor(objective=\"reg:squarederror\", random_state=42)\n",
        "\n",
        "# Randomized search with 5-fold cross-validation\n",
        "random_search = RandomizedSearchCV(\n",
        "    xgb_reg, param_distributions=param_grid,\n",
        "    n_iter=20, cv=5, scoring=\"neg_mean_absolute_error\",\n",
        "    n_jobs=-1, random_state=42, verbose=1\n",
        ")\n",
        "\n",
        "# Fit the model with hyperparameter tuning\n",
        "random_search.fit(X_train, y_train)\n",
        "\n",
        "# Best parameters\n",
        "print(\"Best Parameters:\", random_search.best_params_)\n",
        "\n",
        "# Evaluate the best model\n",
        "best_model = random_search.best_estimator_\n",
        "y_pred = best_model.predict(X_test)\n",
        "\n",
        "mae = mean_absolute_error(y_test, y_pred)\n",
        "mse = mean_squared_error(y_test, y_pred)\n",
        "r2 = r2_score(y_test, y_pred)\n",
        "\n",
        "print(f\"MAE: {mae:.2f}\")\n",
        "print(f\"MSE: {mse:.2f}\")\n",
        "print(f\"R² Score: {r2:.2f}\")\n"
      ],
      "metadata": {
        "colab": {
          "base_uri": "https://localhost:8080/"
        },
        "id": "KVyngFaINs_i",
        "outputId": "04fbd608-946d-4594-907a-8902e2216406"
      },
      "execution_count": null,
      "outputs": [
        {
          "output_type": "stream",
          "name": "stdout",
          "text": [
            "Fitting 5 folds for each of 20 candidates, totalling 100 fits\n"
          ]
        },
        {
          "output_type": "stream",
          "name": "stderr",
          "text": [
            "/usr/local/lib/python3.11/dist-packages/joblib/externals/loky/process_executor.py:752: UserWarning: A worker stopped while some jobs were given to the executor. This can be caused by a too short worker timeout or by a memory leak.\n",
            "  warnings.warn(\n"
          ]
        },
        {
          "output_type": "stream",
          "name": "stdout",
          "text": [
            "Best Parameters: {'subsample': 1.0, 'reg_lambda': 0, 'reg_alpha': 0.1, 'n_estimators': 300, 'max_depth': 8, 'learning_rate': 0.2, 'colsample_bytree': 0.6}\n",
            "MAE: 67.25\n",
            "MSE: 9939.09\n",
            "R² Score: 0.57\n"
          ]
        }
      ]
    }
  ]
}